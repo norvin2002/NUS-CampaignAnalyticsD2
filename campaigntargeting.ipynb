{
 "cells": [
  {
   "cell_type": "code",
   "execution_count": 1,
   "metadata": {},
   "outputs": [],
   "source": [
    "pacman::p_load(dplyr, tidyverse, MASS, boot, readxl, corrplot, caret, car, caTools)\n",
    "setwd(\"C:/Users/nchandra/OneDrive - National University of Singapore/CampaignAnalytics/Day 2/Workshop Day 2\")"
   ]
  },
  {
   "cell_type": "code",
   "execution_count": 2,
   "metadata": {},
   "outputs": [],
   "source": [
    "telco <- read_excel(\"Campaign Targeting.xlsx\")"
   ]
  },
  {
   "cell_type": "code",
   "execution_count": 3,
   "metadata": {},
   "outputs": [
    {
     "data": {
      "text/html": [
       "<table>\n",
       "<caption>A tibble: 6 × 11</caption>\n",
       "<thead>\n",
       "\t<tr><th scope=col>ID</th><th scope=col>Account_Length</th><th scope=col>Number_of_EDM_Opened</th><th scope=col>total_day_charge</th><th scope=col>total_eve_charge</th><th scope=col>total_night_charge</th><th scope=col>total_intl_charge</th><th scope=col>Promotion_Coupons_Used</th><th scope=col>Competitor_use</th><th scope=col>Call_center</th><th scope=col>Response_to_Last_Campaign</th></tr>\n",
       "\t<tr><th scope=col>&lt;dbl&gt;</th><th scope=col>&lt;dbl&gt;</th><th scope=col>&lt;dbl&gt;</th><th scope=col>&lt;dbl&gt;</th><th scope=col>&lt;dbl&gt;</th><th scope=col>&lt;dbl&gt;</th><th scope=col>&lt;dbl&gt;</th><th scope=col>&lt;dbl&gt;</th><th scope=col>&lt;dbl&gt;</th><th scope=col>&lt;dbl&gt;</th><th scope=col>&lt;dbl&gt;</th></tr>\n",
       "</thead>\n",
       "<tbody>\n",
       "\t<tr><td>1</td><td>128</td><td>25</td><td>45.07</td><td>16.78</td><td>11.01</td><td>2.70</td><td>1</td><td>0</td><td>0</td><td>0</td></tr>\n",
       "\t<tr><td>2</td><td>107</td><td>26</td><td>27.47</td><td>16.62</td><td>11.45</td><td>3.70</td><td>1</td><td>0</td><td>0</td><td>0</td></tr>\n",
       "\t<tr><td>3</td><td>137</td><td> 0</td><td>41.38</td><td>10.30</td><td> 7.32</td><td>3.29</td><td>0</td><td>0</td><td>0</td><td>0</td></tr>\n",
       "\t<tr><td>4</td><td> 84</td><td> 0</td><td>50.90</td><td> 5.26</td><td> 8.86</td><td>1.78</td><td>2</td><td>0</td><td>0</td><td>0</td></tr>\n",
       "\t<tr><td>5</td><td> 75</td><td> 0</td><td>28.34</td><td>12.61</td><td> 8.41</td><td>2.73</td><td>3</td><td>0</td><td>0</td><td>0</td></tr>\n",
       "\t<tr><td>6</td><td>118</td><td> 0</td><td>37.98</td><td>18.75</td><td> 9.18</td><td>1.70</td><td>0</td><td>0</td><td>0</td><td>0</td></tr>\n",
       "</tbody>\n",
       "</table>\n"
      ],
      "text/latex": [
       "A tibble: 6 × 11\n",
       "\\begin{tabular}{lllllllllll}\n",
       " ID & Account\\_Length & Number\\_of\\_EDM\\_Opened & total\\_day\\_charge & total\\_eve\\_charge & total\\_night\\_charge & total\\_intl\\_charge & Promotion\\_Coupons\\_Used & Competitor\\_use & Call\\_center & Response\\_to\\_Last\\_Campaign\\\\\n",
       " <dbl> & <dbl> & <dbl> & <dbl> & <dbl> & <dbl> & <dbl> & <dbl> & <dbl> & <dbl> & <dbl>\\\\\n",
       "\\hline\n",
       "\t 1 & 128 & 25 & 45.07 & 16.78 & 11.01 & 2.70 & 1 & 0 & 0 & 0\\\\\n",
       "\t 2 & 107 & 26 & 27.47 & 16.62 & 11.45 & 3.70 & 1 & 0 & 0 & 0\\\\\n",
       "\t 3 & 137 &  0 & 41.38 & 10.30 &  7.32 & 3.29 & 0 & 0 & 0 & 0\\\\\n",
       "\t 4 &  84 &  0 & 50.90 &  5.26 &  8.86 & 1.78 & 2 & 0 & 0 & 0\\\\\n",
       "\t 5 &  75 &  0 & 28.34 & 12.61 &  8.41 & 2.73 & 3 & 0 & 0 & 0\\\\\n",
       "\t 6 & 118 &  0 & 37.98 & 18.75 &  9.18 & 1.70 & 0 & 0 & 0 & 0\\\\\n",
       "\\end{tabular}\n"
      ],
      "text/markdown": [
       "\n",
       "A tibble: 6 × 11\n",
       "\n",
       "| ID &lt;dbl&gt; | Account_Length &lt;dbl&gt; | Number_of_EDM_Opened &lt;dbl&gt; | total_day_charge &lt;dbl&gt; | total_eve_charge &lt;dbl&gt; | total_night_charge &lt;dbl&gt; | total_intl_charge &lt;dbl&gt; | Promotion_Coupons_Used &lt;dbl&gt; | Competitor_use &lt;dbl&gt; | Call_center &lt;dbl&gt; | Response_to_Last_Campaign &lt;dbl&gt; |\n",
       "|---|---|---|---|---|---|---|---|---|---|---|\n",
       "| 1 | 128 | 25 | 45.07 | 16.78 | 11.01 | 2.70 | 1 | 0 | 0 | 0 |\n",
       "| 2 | 107 | 26 | 27.47 | 16.62 | 11.45 | 3.70 | 1 | 0 | 0 | 0 |\n",
       "| 3 | 137 |  0 | 41.38 | 10.30 |  7.32 | 3.29 | 0 | 0 | 0 | 0 |\n",
       "| 4 |  84 |  0 | 50.90 |  5.26 |  8.86 | 1.78 | 2 | 0 | 0 | 0 |\n",
       "| 5 |  75 |  0 | 28.34 | 12.61 |  8.41 | 2.73 | 3 | 0 | 0 | 0 |\n",
       "| 6 | 118 |  0 | 37.98 | 18.75 |  9.18 | 1.70 | 0 | 0 | 0 | 0 |\n",
       "\n"
      ],
      "text/plain": [
       "  ID Account_Length Number_of_EDM_Opened total_day_charge total_eve_charge\n",
       "1 1  128            25                   45.07            16.78           \n",
       "2 2  107            26                   27.47            16.62           \n",
       "3 3  137             0                   41.38            10.30           \n",
       "4 4   84             0                   50.90             5.26           \n",
       "5 5   75             0                   28.34            12.61           \n",
       "6 6  118             0                   37.98            18.75           \n",
       "  total_night_charge total_intl_charge Promotion_Coupons_Used Competitor_use\n",
       "1 11.01              2.70              1                      0             \n",
       "2 11.45              3.70              1                      0             \n",
       "3  7.32              3.29              0                      0             \n",
       "4  8.86              1.78              2                      0             \n",
       "5  8.41              2.73              3                      0             \n",
       "6  9.18              1.70              0                      0             \n",
       "  Call_center Response_to_Last_Campaign\n",
       "1 0           0                        \n",
       "2 0           0                        \n",
       "3 0           0                        \n",
       "4 0           0                        \n",
       "5 0           0                        \n",
       "6 0           0                        "
      ]
     },
     "metadata": {},
     "output_type": "display_data"
    }
   ],
   "source": [
    "head(telco)"
   ]
  },
  {
   "cell_type": "code",
   "execution_count": 4,
   "metadata": {},
   "outputs": [
    {
     "name": "stdout",
     "output_type": "stream",
     "text": [
      "Classes 'tbl_df', 'tbl' and 'data.frame':\t5000 obs. of  11 variables:\n",
      " $ ID                       : num  1 2 3 4 5 6 7 8 9 10 ...\n",
      " $ Account_Length           : num  128 107 137 84 75 118 121 147 117 141 ...\n",
      " $ Number_of_EDM_Opened     : num  25 26 0 0 0 0 24 0 0 37 ...\n",
      " $ total_day_charge         : num  45.1 27.5 41.4 50.9 28.3 ...\n",
      " $ total_eve_charge         : num  16.78 16.62 10.3 5.26 12.61 ...\n",
      " $ total_night_charge       : num  11.01 11.45 7.32 8.86 8.41 ...\n",
      " $ total_intl_charge        : num  2.7 3.7 3.29 1.78 2.73 1.7 2.03 1.92 2.35 3.02 ...\n",
      " $ Promotion_Coupons_Used   : num  1 1 0 2 3 0 3 0 1 0 ...\n",
      " $ Competitor_use           : num  0 0 0 0 0 0 0 0 1 0 ...\n",
      " $ Call_center              : num  0 0 0 0 0 0 0 0 0 0 ...\n",
      " $ Response_to_Last_Campaign: num  0 0 0 0 0 0 0 0 0 0 ...\n"
     ]
    }
   ],
   "source": [
    "str(telco)"
   ]
  },
  {
   "cell_type": "code",
   "execution_count": 5,
   "metadata": {},
   "outputs": [
    {
     "data": {
      "text/plain": [
       "       ID       Account_Length  Number_of_EDM_Opened total_day_charge\n",
       " Min.   :   1   Min.   :  1.0   Min.   : 0.000       Min.   : 0.00   \n",
       " 1st Qu.:1251   1st Qu.: 73.0   1st Qu.: 0.000       1st Qu.:24.43   \n",
       " Median :2500   Median :100.0   Median : 0.000       Median :30.62   \n",
       " Mean   :2500   Mean   :100.3   Mean   : 7.755       Mean   :30.65   \n",
       " 3rd Qu.:3750   3rd Qu.:127.0   3rd Qu.:17.000       3rd Qu.:36.75   \n",
       " Max.   :5000   Max.   :243.0   Max.   :52.000       Max.   :59.76   \n",
       " total_eve_charge total_night_charge total_intl_charge Promotion_Coupons_Used\n",
       " Min.   : 0.00    Min.   : 0.000     Min.   :0.000     Min.   :0.00          \n",
       " 1st Qu.:14.14    1st Qu.: 7.510     1st Qu.:2.300     1st Qu.:1.00          \n",
       " Median :17.09    Median : 9.020     Median :2.780     Median :1.00          \n",
       " Mean   :17.05    Mean   : 9.018     Mean   :2.771     Mean   :1.57          \n",
       " 3rd Qu.:19.90    3rd Qu.:10.560     3rd Qu.:3.240     3rd Qu.:2.00          \n",
       " Max.   :30.91    Max.   :17.770     Max.   :5.400     Max.   :9.00          \n",
       " Competitor_use    Call_center     Response_to_Last_Campaign\n",
       " Min.   :0.0000   Min.   :0.0000   Min.   :0.0000           \n",
       " 1st Qu.:0.0000   1st Qu.:0.0000   1st Qu.:0.0000           \n",
       " Median :0.0000   Median :0.0000   Median :0.0000           \n",
       " Mean   :0.0236   Mean   :0.0428   Mean   :0.1414           \n",
       " 3rd Qu.:0.0000   3rd Qu.:0.0000   3rd Qu.:0.0000           \n",
       " Max.   :1.0000   Max.   :1.0000   Max.   :1.0000           "
      ]
     },
     "metadata": {},
     "output_type": "display_data"
    }
   ],
   "source": [
    "summary(telco)"
   ]
  },
  {
   "cell_type": "code",
   "execution_count": 6,
   "metadata": {},
   "outputs": [
    {
     "data": {
      "text/html": [
       "0"
      ],
      "text/latex": [
       "0"
      ],
      "text/markdown": [
       "0"
      ],
      "text/plain": [
       "[1] 0"
      ]
     },
     "metadata": {},
     "output_type": "display_data"
    }
   ],
   "source": [
    "sum(is.na(telco))"
   ]
  },
  {
   "cell_type": "code",
   "execution_count": 7,
   "metadata": {},
   "outputs": [
    {
     "data": {
      "image/png": "[encoded data removed]",
      "text/plain": [
       "Plot with title \"\""
      ]
     },
     "metadata": {
      "image/png": {
       "height": 420,
       "width": 420
      },
      "text/plain": {
       "height": 420,
       "width": 420
      }
     },
     "output_type": "display_data"
    }
   ],
   "source": [
    "corrplot(cor(telco))"
   ]
  },
  {
   "cell_type": "code",
   "execution_count": 8,
   "metadata": {},
   "outputs": [],
   "source": [
    "telco$Competitor_use <- as.factor(telco$Competitor_use)\n",
    "telco$Call_center <- as.factor(telco$Call_center)\n",
    "telco$Response_to_Last_Campaign <- as.factor(telco$Response_to_Last_Campaign)"
   ]
  },
  {
   "cell_type": "code",
   "execution_count": 9,
   "metadata": {},
   "outputs": [],
   "source": [
    "options(repr.plot.width=15, repr.plot.height=8)\n",
    "#par(mfrow=c(4,3))"
   ]
  },
  {
   "cell_type": "code",
   "execution_count": 10,
   "metadata": {},
   "outputs": [
    {
     "name": "stderr",
     "output_type": "stream",
     "text": [
      "`stat_bin()` using `bins = 30`. Pick better value with `binwidth`.\n",
      "\n"
     ]
    },
    {
     "data": {
      "image/png": "[encoded data removed]",
      "text/plain": [
       "plot without title"
      ]
     },
     "metadata": {
      "image/png": {
       "height": 480,
       "width": 900
      },
      "text/plain": {
       "height": 480,
       "width": 900
      }
     },
     "output_type": "display_data"
    }
   ],
   "source": [
    "ggplot(telco, aes(x = Account_Length, fill = Response_to_Last_Campaign, color = Response_to_Last_Campaign)) + \n",
    "    geom_histogram(position = \"identity\", alpha = 0.5)"
   ]
  },
  {
   "cell_type": "code",
   "execution_count": 11,
   "metadata": {},
   "outputs": [
    {
     "data": {
      "image/png": "[encoded data removed]",
      "text/plain": [
       "plot without title"
      ]
     },
     "metadata": {
      "image/png": {
       "height": 480,
       "width": 900
      },
      "text/plain": {
       "height": 480,
       "width": 900
      }
     },
     "output_type": "display_data"
    }
   ],
   "source": [
    "ggplot(telco, aes(x = Number_of_EDM_Opened, fill = Response_to_Last_Campaign, color = Response_to_Last_Campaign)) + \n",
    "    geom_histogram(position = \"identity\", alpha = 0.5, binwidth = 5)"
   ]
  },
  {
   "cell_type": "markdown",
   "metadata": {},
   "source": [
    "Number of EDM opened does not seem to help much in campaign response"
   ]
  },
  {
   "cell_type": "code",
   "execution_count": 12,
   "metadata": {},
   "outputs": [
    {
     "name": "stderr",
     "output_type": "stream",
     "text": [
      "`stat_bin()` using `bins = 30`. Pick better value with `binwidth`.\n",
      "\n"
     ]
    },
    {
     "data": {
      "image/png": "[encoded data removed]",
      "text/plain": [
       "plot without title"
      ]
     },
     "metadata": {
      "image/png": {
       "height": 480,
       "width": 900
      },
      "text/plain": {
       "height": 480,
       "width": 900
      }
     },
     "output_type": "display_data"
    }
   ],
   "source": [
    "ggplot(telco, aes(x = total_day_charge, fill = Response_to_Last_Campaign, color = Response_to_Last_Campaign)) + \n",
    "    geom_histogram(position = \"identity\", alpha = 0.5)"
   ]
  },
  {
   "cell_type": "code",
   "execution_count": 13,
   "metadata": {},
   "outputs": [
    {
     "name": "stderr",
     "output_type": "stream",
     "text": [
      "`stat_bin()` using `bins = 30`. Pick better value with `binwidth`.\n",
      "\n"
     ]
    },
    {
     "data": {
      "image/png": "[encoded data removed]",
      "text/plain": [
       "plot without title"
      ]
     },
     "metadata": {
      "image/png": {
       "height": 480,
       "width": 900
      },
      "text/plain": {
       "height": 480,
       "width": 900
      }
     },
     "output_type": "display_data"
    }
   ],
   "source": [
    "ggplot(telco, aes(x = total_eve_charge, fill = Response_to_Last_Campaign, color = Response_to_Last_Campaign)) + \n",
    "    geom_histogram(position = \"identity\", alpha = 0.5)"
   ]
  },
  {
   "cell_type": "code",
   "execution_count": 14,
   "metadata": {},
   "outputs": [
    {
     "name": "stderr",
     "output_type": "stream",
     "text": [
      "`stat_bin()` using `bins = 30`. Pick better value with `binwidth`.\n",
      "\n"
     ]
    },
    {
     "data": {
      "image/png": "[encoded data removed]",
      "text/plain": [
       "plot without title"
      ]
     },
     "metadata": {
      "image/png": {
       "height": 480,
       "width": 900
      },
      "text/plain": {
       "height": 480,
       "width": 900
      }
     },
     "output_type": "display_data"
    }
   ],
   "source": [
    "ggplot(telco, aes(x = total_night_charge, fill = Response_to_Last_Campaign, color = Response_to_Last_Campaign)) + \n",
    "    geom_histogram(position = \"identity\", alpha = 0.5)"
   ]
  },
  {
   "cell_type": "code",
   "execution_count": 15,
   "metadata": {},
   "outputs": [
    {
     "name": "stderr",
     "output_type": "stream",
     "text": [
      "`stat_bin()` using `bins = 30`. Pick better value with `binwidth`.\n",
      "\n"
     ]
    },
    {
     "data": {
      "image/png": "[encoded data removed]",
      "text/plain": [
       "plot without title"
      ]
     },
     "metadata": {
      "image/png": {
       "height": 480,
       "width": 900
      },
      "text/plain": {
       "height": 480,
       "width": 900
      }
     },
     "output_type": "display_data"
    }
   ],
   "source": [
    "ggplot(telco, aes(x = total_intl_charge, fill = Response_to_Last_Campaign, color = Response_to_Last_Campaign)) + \n",
    "    geom_histogram(position = \"identity\", alpha = 0.5)"
   ]
  },
  {
   "cell_type": "code",
   "execution_count": 16,
   "metadata": {},
   "outputs": [
    {
     "name": "stderr",
     "output_type": "stream",
     "text": [
      "`stat_bin()` using `bins = 30`. Pick better value with `binwidth`.\n",
      "\n"
     ]
    },
    {
     "data": {
      "image/png": "[encoded data removed]",
      "text/plain": [
       "plot without title"
      ]
     },
     "metadata": {
      "image/png": {
       "height": 480,
       "width": 900
      },
      "text/plain": {
       "height": 480,
       "width": 900
      }
     },
     "output_type": "display_data"
    }
   ],
   "source": [
    "ggplot(telco, aes(x = Promotion_Coupons_Used, fill = Response_to_Last_Campaign, color = Response_to_Last_Campaign)) + \n",
    "    geom_histogram(position = \"identity\", alpha = 0.5)"
   ]
  },
  {
   "cell_type": "markdown",
   "metadata": {},
   "source": [
    "Those who use more Promotion Coupons are likely to respond positively to campaign"
   ]
  },
  {
   "cell_type": "code",
   "execution_count": 17,
   "metadata": {},
   "outputs": [
    {
     "data": {
      "image/png": "[encoded data removed]",
      "text/plain": [
       "plot without title"
      ]
     },
     "metadata": {
      "image/png": {
       "height": 480,
       "width": 900
      },
      "text/plain": {
       "height": 480,
       "width": 900
      }
     },
     "output_type": "display_data"
    }
   ],
   "source": [
    "tb = round(prop.table(table(telco$Response_to_Last_Campaign, telco$Competitor_use), 2)*100,2)\n",
    "data.frame(tb) %>%\n",
    "ggplot(aes(x= Var1, y = Freq, fill= Var1)) + geom_bar(stat=\"identity\") + facet_wrap(~Var2) +\n",
    "geom_text(aes(label=round(Freq,2)),vjust = 1, size =3)+\n",
    "labs(x= \"response\", y= \"Competitor_use\",\n",
    "title = \"Response Rate\",\n",
    "subtitle = \"Telco\")"
   ]
  },
  {
   "cell_type": "markdown",
   "metadata": {},
   "source": [
    "Competitor_use (having competitor connection) does not seem to affect the outcome of campaign"
   ]
  },
  {
   "cell_type": "code",
   "execution_count": 18,
   "metadata": {},
   "outputs": [
    {
     "data": {
      "image/png": "[encoded data removed]",
      "text/plain": [
       "plot without title"
      ]
     },
     "metadata": {
      "image/png": {
       "height": 360,
       "width": 360
      },
      "text/plain": {
       "height": 360,
       "width": 360
      }
     },
     "output_type": "display_data"
    }
   ],
   "source": [
    "options(repr.plot.width=6, repr.plot.height=6)\n",
    "tb = round(prop.table(table(telco$Response_to_Last_Campaign, telco$Call_center), 2)*100,2)\n",
    "data.frame(tb) %>%\n",
    "ggplot(aes(x= Var1, y = Freq, fill= Var1)) + geom_bar(stat=\"identity\") + facet_wrap(~Var2) +\n",
    "geom_text(aes(label=round(Freq,2)),vjust = 1, size =3)+\n",
    "labs(x= \"response\", y= \"Call_center\",\n",
    "title = \"Response Rate\",\n",
    "subtitle = \"Telco\")"
   ]
  },
  {
   "cell_type": "markdown",
   "metadata": {},
   "source": [
    "Call_center (Called Customer Service Call Center in last 3 months) seem to make a big difference in the outcome of the campaign. We are not sure what was the purpose of call or what the customer service officer said but All those who have taken up the Value plan have called Customer Service Call Center in last 3 months."
   ]
  },
  {
   "cell_type": "code",
   "execution_count": null,
   "metadata": {},
   "outputs": [],
   "source": []
  },
  {
   "cell_type": "code",
   "execution_count": 19,
   "metadata": {},
   "outputs": [
    {
     "data": {
      "text/html": [
       "<table>\n",
       "<caption>A tibble: 2 × 3</caption>\n",
       "<thead>\n",
       "\t<tr><th scope=col>Response_to_Last_Campaign</th><th scope=col>Count</th><th scope=col>percent</th></tr>\n",
       "\t<tr><th scope=col>&lt;fct&gt;</th><th scope=col>&lt;int&gt;</th><th scope=col>&lt;dbl&gt;</th></tr>\n",
       "</thead>\n",
       "<tbody>\n",
       "\t<tr><td>0</td><td>4293</td><td>86</td></tr>\n",
       "\t<tr><td>1</td><td> 707</td><td>14</td></tr>\n",
       "</tbody>\n",
       "</table>\n"
      ],
      "text/latex": [
       "A tibble: 2 × 3\n",
       "\\begin{tabular}{lll}\n",
       " Response\\_to\\_Last\\_Campaign & Count & percent\\\\\n",
       " <fct> & <int> & <dbl>\\\\\n",
       "\\hline\n",
       "\t 0 & 4293 & 86\\\\\n",
       "\t 1 &  707 & 14\\\\\n",
       "\\end{tabular}\n"
      ],
      "text/markdown": [
       "\n",
       "A tibble: 2 × 3\n",
       "\n",
       "| Response_to_Last_Campaign &lt;fct&gt; | Count &lt;int&gt; | percent &lt;dbl&gt; |\n",
       "|---|---|---|\n",
       "| 0 | 4293 | 86 |\n",
       "| 1 |  707 | 14 |\n",
       "\n"
      ],
      "text/plain": [
       "  Response_to_Last_Campaign Count percent\n",
       "1 0                         4293  86     \n",
       "2 1                          707  14     "
      ]
     },
     "metadata": {},
     "output_type": "display_data"
    }
   ],
   "source": [
    "telco %>%\n",
    "    group_by(Response_to_Last_Campaign) %>%\n",
    "    summarise(Count = n()) %>%\n",
    "    mutate(percent = round(Count / sum(Count)*100,0))"
   ]
  },
  {
   "cell_type": "code",
   "execution_count": 20,
   "metadata": {},
   "outputs": [],
   "source": [
    "#train test split\n",
    "set.seed(345)\n",
    "splitData <- sample.split(telco$Response_to_Last_Campaign, SplitRatio = 0.7)\n",
    "\n"
   ]
  },
  {
   "cell_type": "code",
   "execution_count": 21,
   "metadata": {},
   "outputs": [
    {
     "data": {
      "text/html": [
       "0.7"
      ],
      "text/latex": [
       "0.7"
      ],
      "text/markdown": [
       "0.7"
      ],
      "text/plain": [
       "[1] 0.7"
      ]
     },
     "metadata": {},
     "output_type": "display_data"
    }
   ],
   "source": [
    "#train set\n",
    "train_set <- telco[splitData,]\n",
    "nrow(train_set) / nrow(telco)"
   ]
  },
  {
   "cell_type": "code",
   "execution_count": 22,
   "metadata": {},
   "outputs": [
    {
     "data": {
      "text/html": [
       "0.3"
      ],
      "text/latex": [
       "0.3"
      ],
      "text/markdown": [
       "0.3"
      ],
      "text/plain": [
       "[1] 0.3"
      ]
     },
     "metadata": {},
     "output_type": "display_data"
    }
   ],
   "source": [
    "#test set\n",
    "test_set <- telco[!splitData,]\n",
    "nrow(test_set) / nrow(telco)"
   ]
  },
  {
   "cell_type": "code",
   "execution_count": 23,
   "metadata": {},
   "outputs": [],
   "source": [
    "mod1 <- glm(Response_to_Last_Campaign ~ .-ID, family = \"binomial\", data = telco)"
   ]
  },
  {
   "cell_type": "code",
   "execution_count": 24,
   "metadata": {},
   "outputs": [
    {
     "data": {
      "text/html": [
       "<style>\n",
       ".dl-inline {width: auto; margin:0; padding: 0}\n",
       ".dl-inline>dt, .dl-inline>dd {float: none; width: auto; display: inline-block}\n",
       ".dl-inline>dt::after {content: \":\\0020\"; padding-right: .5ex}\n",
       ".dl-inline>dt:not(:first-of-type) {padding-left: .5ex}\n",
       "</style><dl class=dl-inline><dt>Account_Length</dt><dd>1.00027994690571</dd><dt>Number_of_EDM_Opened</dt><dd>1.01265969079715</dd><dt>total_day_charge</dt><dd>1.02523713713075</dd><dt>total_eve_charge</dt><dd>1.01832317015005</dd><dt>total_night_charge</dt><dd>1.00428381032415</dd><dt>total_intl_charge</dt><dd>1.00849286417594</dd><dt>Promotion_Coupons_Used</dt><dd>1.01826042294115</dd><dt>Competitor_use</dt><dd>1.00146356648435</dd><dt>Call_center</dt><dd>1.00000009960294</dd></dl>\n"
      ],
      "text/latex": [
       "\\begin{description*}\n",
       "\\item[Account\\textbackslash{}\\_Length] 1.00027994690571\n",
       "\\item[Number\\textbackslash{}\\_of\\textbackslash{}\\_EDM\\textbackslash{}\\_Opened] 1.01265969079715\n",
       "\\item[total\\textbackslash{}\\_day\\textbackslash{}\\_charge] 1.02523713713075\n",
       "\\item[total\\textbackslash{}\\_eve\\textbackslash{}\\_charge] 1.01832317015005\n",
       "\\item[total\\textbackslash{}\\_night\\textbackslash{}\\_charge] 1.00428381032415\n",
       "\\item[total\\textbackslash{}\\_intl\\textbackslash{}\\_charge] 1.00849286417594\n",
       "\\item[Promotion\\textbackslash{}\\_Coupons\\textbackslash{}\\_Used] 1.01826042294115\n",
       "\\item[Competitor\\textbackslash{}\\_use] 1.00146356648435\n",
       "\\item[Call\\textbackslash{}\\_center] 1.00000009960294\n",
       "\\end{description*}\n"
      ],
      "text/markdown": [
       "Account_Length\n",
       ":   1.00027994690571Number_of_EDM_Opened\n",
       ":   1.01265969079715total_day_charge\n",
       ":   1.02523713713075total_eve_charge\n",
       ":   1.01832317015005total_night_charge\n",
       ":   1.00428381032415total_intl_charge\n",
       ":   1.00849286417594Promotion_Coupons_Used\n",
       ":   1.01826042294115Competitor_use\n",
       ":   1.00146356648435Call_center\n",
       ":   1.00000009960294\n",
       "\n"
      ],
      "text/plain": [
       "        Account_Length   Number_of_EDM_Opened       total_day_charge \n",
       "              1.000280               1.012660               1.025237 \n",
       "      total_eve_charge     total_night_charge      total_intl_charge \n",
       "              1.018323               1.004284               1.008493 \n",
       "Promotion_Coupons_Used         Competitor_use            Call_center \n",
       "              1.018260               1.001464               1.000000 "
      ]
     },
     "metadata": {},
     "output_type": "display_data"
    }
   ],
   "source": [
    "vif(mod1)"
   ]
  },
  {
   "cell_type": "code",
   "execution_count": 25,
   "metadata": {},
   "outputs": [
    {
     "data": {
      "text/plain": [
       "\n",
       "Call:\n",
       "glm(formula = Response_to_Last_Campaign ~ . - ID, family = \"binomial\", \n",
       "    data = telco)\n",
       "\n",
       "Deviance Residuals: \n",
       "    Min       1Q   Median       3Q      Max  \n",
       "-1.5545  -0.4642  -0.3227  -0.1966   3.2544  \n",
       "\n",
       "Coefficients:\n",
       "                         Estimate Std. Error z value Pr(>|z|)    \n",
       "(Intercept)             -8.563615   0.478210 -17.908  < 2e-16 ***\n",
       "Account_Length           0.001347   0.001272   1.060  0.28929    \n",
       "Number_of_EDM_Opened    -0.032035   0.004687  -6.836 8.17e-12 ***\n",
       "total_day_charge         0.083798   0.006083  13.776  < 2e-16 ***\n",
       "total_eve_charge         0.077274   0.012355   6.254 3.99e-10 ***\n",
       "total_night_charge       0.070235   0.022151   3.171  0.00152 ** \n",
       "total_intl_charge        0.303403   0.069794   4.347 1.38e-05 ***\n",
       "Promotion_Coupons_Used   0.462107   0.035340  13.076  < 2e-16 ***\n",
       "Competitor_use1          0.455895   0.290387   1.570  0.11642    \n",
       "Call_center1            19.861404 244.783766   0.081  0.93533    \n",
       "---\n",
       "Signif. codes:  0 '***' 0.001 '**' 0.01 '*' 0.05 '.' 0.1 ' ' 1\n",
       "\n",
       "(Dispersion parameter for binomial family taken to be 1)\n",
       "\n",
       "    Null deviance: 4075.0  on 4999  degrees of freedom\n",
       "Residual deviance: 2694.7  on 4990  degrees of freedom\n",
       "AIC: 2714.7\n",
       "\n",
       "Number of Fisher Scoring iterations: 16\n"
      ]
     },
     "metadata": {},
     "output_type": "display_data"
    }
   ],
   "source": [
    "summary(mod1)"
   ]
  },
  {
   "cell_type": "code",
   "execution_count": 26,
   "metadata": {},
   "outputs": [
    {
     "name": "stdout",
     "output_type": "stream",
     "text": [
      "\n",
      "Call:  glm(formula = Response_to_Last_Campaign ~ . - ID, family = \"binomial\", \n",
      "    data = telco)\n",
      "\n",
      "Coefficients:\n",
      "           (Intercept)          Account_Length    Number_of_EDM_Opened  \n",
      "             -8.563615                0.001347               -0.032035  \n",
      "      total_day_charge        total_eve_charge      total_night_charge  \n",
      "              0.083798                0.077274                0.070235  \n",
      "     total_intl_charge  Promotion_Coupons_Used         Competitor_use1  \n",
      "              0.303403                0.462107                0.455895  \n",
      "          Call_center1  \n",
      "             19.861404  \n",
      "\n",
      "Degrees of Freedom: 4999 Total (i.e. Null);  4990 Residual\n",
      "Null Deviance:\t    4075 \n",
      "Residual Deviance: 2695 \tAIC: 2715\n"
     ]
    }
   ],
   "source": [
    "print(mod1)"
   ]
  },
  {
   "cell_type": "markdown",
   "metadata": {},
   "source": [
    "Account_Length, Competitor_use and Call_center are not statistically significant and we will drop it"
   ]
  },
  {
   "cell_type": "code",
   "execution_count": 27,
   "metadata": {},
   "outputs": [],
   "source": [
    "mod2 <- glm(Response_to_Last_Campaign ~ .-ID -Account_Length -Competitor_use -Call_center, \n",
    "            family = \"binomial\", data = telco)"
   ]
  },
  {
   "cell_type": "code",
   "execution_count": 28,
   "metadata": {},
   "outputs": [
    {
     "data": {
      "text/plain": [
       "\n",
       "Call:\n",
       "glm(formula = Response_to_Last_Campaign ~ . - ID - Account_Length - \n",
       "    Competitor_use - Call_center, family = \"binomial\", data = telco)\n",
       "\n",
       "Deviance Residuals: \n",
       "    Min       1Q   Median       3Q      Max  \n",
       "-1.7039  -0.5533  -0.3964  -0.2506   3.1125  \n",
       "\n",
       "Coefficients:\n",
       "                        Estimate Std. Error z value Pr(>|z|)    \n",
       "(Intercept)            -7.848191   0.391518 -20.046  < 2e-16 ***\n",
       "Number_of_EDM_Opened   -0.028470   0.003887  -7.325 2.39e-13 ***\n",
       "total_day_charge        0.075978   0.005085  14.941  < 2e-16 ***\n",
       "total_eve_charge        0.077338   0.010495   7.369 1.72e-13 ***\n",
       "total_night_charge      0.067615   0.019103   3.539 0.000401 ***\n",
       "total_intl_charge       0.329252   0.060035   5.484 4.15e-08 ***\n",
       "Promotion_Coupons_Used  0.463118   0.030894  14.991  < 2e-16 ***\n",
       "---\n",
       "Signif. codes:  0 '***' 0.001 '**' 0.01 '*' 0.05 '.' 0.1 ' ' 1\n",
       "\n",
       "(Dispersion parameter for binomial family taken to be 1)\n",
       "\n",
       "    Null deviance: 4075.0  on 4999  degrees of freedom\n",
       "Residual deviance: 3484.4  on 4993  degrees of freedom\n",
       "AIC: 3498.4\n",
       "\n",
       "Number of Fisher Scoring iterations: 5\n"
      ]
     },
     "metadata": {},
     "output_type": "display_data"
    }
   ],
   "source": [
    "summary(mod2)"
   ]
  },
  {
   "cell_type": "code",
   "execution_count": 29,
   "metadata": {},
   "outputs": [
    {
     "data": {
      "text/html": [
       "<style>\n",
       ".dl-inline {width: auto; margin:0; padding: 0}\n",
       ".dl-inline>dt, .dl-inline>dd {float: none; width: auto; display: inline-block}\n",
       ".dl-inline>dt::after {content: \":\\0020\"; padding-right: .5ex}\n",
       ".dl-inline>dt:not(:first-of-type) {padding-left: .5ex}\n",
       "</style><dl class=dl-inline><dt>Number_of_EDM_Opened</dt><dd>1.0076642204637</dd><dt>total_day_charge</dt><dd>1.02797134918145</dd><dt>total_eve_charge</dt><dd>1.01552056205213</dd><dt>total_night_charge</dt><dd>1.00302258259241</dd><dt>total_intl_charge</dt><dd>1.00992199898851</dd><dt>Promotion_Coupons_Used</dt><dd>1.031909425635</dd></dl>\n"
      ],
      "text/latex": [
       "\\begin{description*}\n",
       "\\item[Number\\textbackslash{}\\_of\\textbackslash{}\\_EDM\\textbackslash{}\\_Opened] 1.0076642204637\n",
       "\\item[total\\textbackslash{}\\_day\\textbackslash{}\\_charge] 1.02797134918145\n",
       "\\item[total\\textbackslash{}\\_eve\\textbackslash{}\\_charge] 1.01552056205213\n",
       "\\item[total\\textbackslash{}\\_night\\textbackslash{}\\_charge] 1.00302258259241\n",
       "\\item[total\\textbackslash{}\\_intl\\textbackslash{}\\_charge] 1.00992199898851\n",
       "\\item[Promotion\\textbackslash{}\\_Coupons\\textbackslash{}\\_Used] 1.031909425635\n",
       "\\end{description*}\n"
      ],
      "text/markdown": [
       "Number_of_EDM_Opened\n",
       ":   1.0076642204637total_day_charge\n",
       ":   1.02797134918145total_eve_charge\n",
       ":   1.01552056205213total_night_charge\n",
       ":   1.00302258259241total_intl_charge\n",
       ":   1.00992199898851Promotion_Coupons_Used\n",
       ":   1.031909425635\n",
       "\n"
      ],
      "text/plain": [
       "  Number_of_EDM_Opened       total_day_charge       total_eve_charge \n",
       "              1.007664               1.027971               1.015521 \n",
       "    total_night_charge      total_intl_charge Promotion_Coupons_Used \n",
       "              1.003023               1.009922               1.031909 "
      ]
     },
     "metadata": {},
     "output_type": "display_data"
    }
   ],
   "source": [
    "vif(mod2)"
   ]
  },
  {
   "cell_type": "code",
   "execution_count": 30,
   "metadata": {},
   "outputs": [
    {
     "name": "stdout",
     "output_type": "stream",
     "text": [
      "           (Intercept)   Number_of_EDM_Opened       total_day_charge \n",
      "          0.0003904576           0.9719313329           1.0789385691 \n",
      "      total_eve_charge     total_night_charge      total_intl_charge \n",
      "          1.0804070461           1.0699538281           1.3899282968 \n",
      "Promotion_Coupons_Used \n",
      "          1.5890201582 \n"
     ]
    }
   ],
   "source": [
    "print(exp(coef(mod2)))"
   ]
  },
  {
   "cell_type": "code",
   "execution_count": 31,
   "metadata": {},
   "outputs": [],
   "source": [
    "train_predict <- predict(mod2, newdata = train_set, type = 'response')\n",
    "p_class = ifelse(train_predict > 0.5, '1', '0')"
   ]
  },
  {
   "cell_type": "code",
   "execution_count": 32,
   "metadata": {},
   "outputs": [
    {
     "data": {
      "text/plain": [
       "       \n",
       "p_class    0    1\n",
       "      0 2964  441\n",
       "      1   41   54"
      ]
     },
     "metadata": {},
     "output_type": "display_data"
    }
   ],
   "source": [
    "matrix_table <- table(p_class, train_set$Response_to_Last_Campaign)\n",
    "matrix_table"
   ]
  },
  {
   "cell_type": "code",
   "execution_count": 33,
   "metadata": {},
   "outputs": [
    {
     "data": {
      "text/html": [
       "0.862285714285714"
      ],
      "text/latex": [
       "0.862285714285714"
      ],
      "text/markdown": [
       "0.862285714285714"
      ],
      "text/plain": [
       "[1] 0.8622857"
      ]
     },
     "metadata": {},
     "output_type": "display_data"
    }
   ],
   "source": [
    "accuracy <- sum(diag(matrix_table))/sum(matrix_table)\n",
    "accuracy"
   ]
  },
  {
   "cell_type": "code",
   "execution_count": 34,
   "metadata": {},
   "outputs": [],
   "source": [
    "test_set$predict_mod2 <- predict(mod2, newdata = test_set, type = \"response\")\n",
    "p_class <- ifelse(test_set$predict_mod2 > 0.5, '1', '0')"
   ]
  },
  {
   "cell_type": "code",
   "execution_count": 35,
   "metadata": {},
   "outputs": [
    {
     "data": {
      "text/plain": [
       "       \n",
       "p_class    0    1\n",
       "      0 1274  191\n",
       "      1   14   21"
      ]
     },
     "metadata": {},
     "output_type": "display_data"
    }
   ],
   "source": [
    "matrix_table <- table(p_class,test_set$Response_to_Last_Campaign)\n",
    "matrix_table"
   ]
  },
  {
   "cell_type": "code",
   "execution_count": 36,
   "metadata": {},
   "outputs": [
    {
     "data": {
      "text/html": [
       "0.863333333333333"
      ],
      "text/latex": [
       "0.863333333333333"
      ],
      "text/markdown": [
       "0.863333333333333"
      ],
      "text/plain": [
       "[1] 0.8633333"
      ]
     },
     "metadata": {},
     "output_type": "display_data"
    }
   ],
   "source": [
    "accuracy <- sum(diag(matrix_table))/sum(matrix_table)\n",
    "accuracy"
   ]
  },
  {
   "cell_type": "code",
   "execution_count": 37,
   "metadata": {},
   "outputs": [
    {
     "data": {
      "text/html": [
       "0.0990566037735849"
      ],
      "text/latex": [
       "0.0990566037735849"
      ],
      "text/markdown": [
       "0.0990566037735849"
      ],
      "text/plain": [
       "[1] 0.0990566"
      ]
     },
     "metadata": {},
     "output_type": "display_data"
    }
   ],
   "source": [
    "TPR <- matrix_table[2,2]/sum(matrix_table[,2])\n",
    "TPR"
   ]
  },
  {
   "cell_type": "code",
   "execution_count": 38,
   "metadata": {},
   "outputs": [
    {
     "data": {
      "text/html": [
       "0.0108695652173913"
      ],
      "text/latex": [
       "0.0108695652173913"
      ],
      "text/markdown": [
       "0.0108695652173913"
      ],
      "text/plain": [
       "[1] 0.01086957"
      ]
     },
     "metadata": {},
     "output_type": "display_data"
    }
   ],
   "source": [
    "FPR <- matrix_table[2,1]/sum(matrix_table[,1])\n",
    "FPR"
   ]
  },
  {
   "cell_type": "code",
   "execution_count": 39,
   "metadata": {},
   "outputs": [
    {
     "data": {
      "text/html": [
       "<table>\n",
       "<caption>A tibble: 6 × 12</caption>\n",
       "<thead>\n",
       "\t<tr><th scope=col>ID</th><th scope=col>Account_Length</th><th scope=col>Number_of_EDM_Opened</th><th scope=col>total_day_charge</th><th scope=col>total_eve_charge</th><th scope=col>total_night_charge</th><th scope=col>total_intl_charge</th><th scope=col>Promotion_Coupons_Used</th><th scope=col>Competitor_use</th><th scope=col>Call_center</th><th scope=col>Response_to_Last_Campaign</th><th scope=col>predict_mod2</th></tr>\n",
       "\t<tr><th scope=col>&lt;dbl&gt;</th><th scope=col>&lt;dbl&gt;</th><th scope=col>&lt;dbl&gt;</th><th scope=col>&lt;dbl&gt;</th><th scope=col>&lt;dbl&gt;</th><th scope=col>&lt;dbl&gt;</th><th scope=col>&lt;dbl&gt;</th><th scope=col>&lt;dbl&gt;</th><th scope=col>&lt;fct&gt;</th><th scope=col>&lt;fct&gt;</th><th scope=col>&lt;fct&gt;</th><th scope=col>&lt;dbl&gt;</th></tr>\n",
       "</thead>\n",
       "<tbody>\n",
       "\t<tr><td> 6</td><td>118</td><td> 0</td><td>37.98</td><td>18.75</td><td>9.18</td><td>1.70</td><td>0</td><td>0</td><td>0</td><td>0</td><td>0.08850458</td></tr>\n",
       "\t<tr><td> 8</td><td>147</td><td> 0</td><td>26.69</td><td> 8.76</td><td>9.53</td><td>1.92</td><td>0</td><td>0</td><td>0</td><td>0</td><td>0.02050586</td></tr>\n",
       "\t<tr><td>13</td><td>168</td><td> 0</td><td>21.90</td><td> 8.92</td><td>6.35</td><td>3.02</td><td>1</td><td>0</td><td>0</td><td>0</td><td>0.02640075</td></tr>\n",
       "\t<tr><td>17</td><td> 85</td><td>27</td><td>33.39</td><td>23.88</td><td>4.02</td><td>3.73</td><td>1</td><td>0</td><td>0</td><td>0</td><td>0.09362831</td></tr>\n",
       "\t<tr><td>19</td><td> 76</td><td>33</td><td>32.25</td><td>18.09</td><td>7.46</td><td>2.70</td><td>1</td><td>1</td><td>0</td><td>0</td><td>0.04386129</td></tr>\n",
       "\t<tr><td>21</td><td>147</td><td> 0</td><td>26.37</td><td>20.37</td><td>9.40</td><td>2.86</td><td>0</td><td>0</td><td>0</td><td>0</td><td>0.06344477</td></tr>\n",
       "</tbody>\n",
       "</table>\n"
      ],
      "text/latex": [
       "A tibble: 6 × 12\n",
       "\\begin{tabular}{llllllllllll}\n",
       " ID & Account\\_Length & Number\\_of\\_EDM\\_Opened & total\\_day\\_charge & total\\_eve\\_charge & total\\_night\\_charge & total\\_intl\\_charge & Promotion\\_Coupons\\_Used & Competitor\\_use & Call\\_center & Response\\_to\\_Last\\_Campaign & predict\\_mod2\\\\\n",
       " <dbl> & <dbl> & <dbl> & <dbl> & <dbl> & <dbl> & <dbl> & <dbl> & <fct> & <fct> & <fct> & <dbl>\\\\\n",
       "\\hline\n",
       "\t  6 & 118 &  0 & 37.98 & 18.75 & 9.18 & 1.70 & 0 & 0 & 0 & 0 & 0.08850458\\\\\n",
       "\t  8 & 147 &  0 & 26.69 &  8.76 & 9.53 & 1.92 & 0 & 0 & 0 & 0 & 0.02050586\\\\\n",
       "\t 13 & 168 &  0 & 21.90 &  8.92 & 6.35 & 3.02 & 1 & 0 & 0 & 0 & 0.02640075\\\\\n",
       "\t 17 &  85 & 27 & 33.39 & 23.88 & 4.02 & 3.73 & 1 & 0 & 0 & 0 & 0.09362831\\\\\n",
       "\t 19 &  76 & 33 & 32.25 & 18.09 & 7.46 & 2.70 & 1 & 1 & 0 & 0 & 0.04386129\\\\\n",
       "\t 21 & 147 &  0 & 26.37 & 20.37 & 9.40 & 2.86 & 0 & 0 & 0 & 0 & 0.06344477\\\\\n",
       "\\end{tabular}\n"
      ],
      "text/markdown": [
       "\n",
       "A tibble: 6 × 12\n",
       "\n",
       "| ID &lt;dbl&gt; | Account_Length &lt;dbl&gt; | Number_of_EDM_Opened &lt;dbl&gt; | total_day_charge &lt;dbl&gt; | total_eve_charge &lt;dbl&gt; | total_night_charge &lt;dbl&gt; | total_intl_charge &lt;dbl&gt; | Promotion_Coupons_Used &lt;dbl&gt; | Competitor_use &lt;fct&gt; | Call_center &lt;fct&gt; | Response_to_Last_Campaign &lt;fct&gt; | predict_mod2 &lt;dbl&gt; |\n",
       "|---|---|---|---|---|---|---|---|---|---|---|---|\n",
       "|  6 | 118 |  0 | 37.98 | 18.75 | 9.18 | 1.70 | 0 | 0 | 0 | 0 | 0.08850458 |\n",
       "|  8 | 147 |  0 | 26.69 |  8.76 | 9.53 | 1.92 | 0 | 0 | 0 | 0 | 0.02050586 |\n",
       "| 13 | 168 |  0 | 21.90 |  8.92 | 6.35 | 3.02 | 1 | 0 | 0 | 0 | 0.02640075 |\n",
       "| 17 |  85 | 27 | 33.39 | 23.88 | 4.02 | 3.73 | 1 | 0 | 0 | 0 | 0.09362831 |\n",
       "| 19 |  76 | 33 | 32.25 | 18.09 | 7.46 | 2.70 | 1 | 1 | 0 | 0 | 0.04386129 |\n",
       "| 21 | 147 |  0 | 26.37 | 20.37 | 9.40 | 2.86 | 0 | 0 | 0 | 0 | 0.06344477 |\n",
       "\n"
      ],
      "text/plain": [
       "  ID Account_Length Number_of_EDM_Opened total_day_charge total_eve_charge\n",
       "1  6 118             0                   37.98            18.75           \n",
       "2  8 147             0                   26.69             8.76           \n",
       "3 13 168             0                   21.90             8.92           \n",
       "4 17  85            27                   33.39            23.88           \n",
       "5 19  76            33                   32.25            18.09           \n",
       "6 21 147             0                   26.37            20.37           \n",
       "  total_night_charge total_intl_charge Promotion_Coupons_Used Competitor_use\n",
       "1 9.18               1.70              0                      0             \n",
       "2 9.53               1.92              0                      0             \n",
       "3 6.35               3.02              1                      0             \n",
       "4 4.02               3.73              1                      0             \n",
       "5 7.46               2.70              1                      1             \n",
       "6 9.40               2.86              0                      0             \n",
       "  Call_center Response_to_Last_Campaign predict_mod2\n",
       "1 0           0                         0.08850458  \n",
       "2 0           0                         0.02050586  \n",
       "3 0           0                         0.02640075  \n",
       "4 0           0                         0.09362831  \n",
       "5 0           0                         0.04386129  \n",
       "6 0           0                         0.06344477  "
      ]
     },
     "metadata": {},
     "output_type": "display_data"
    }
   ],
   "source": [
    "head(test_set)"
   ]
  },
  {
   "cell_type": "markdown",
   "metadata": {},
   "source": [
    "## Using stepAIC method"
   ]
  },
  {
   "cell_type": "code",
   "execution_count": 40,
   "metadata": {},
   "outputs": [],
   "source": [
    "stepmod <- stepAIC(mod1,trace = 0)"
   ]
  },
  {
   "cell_type": "code",
   "execution_count": 41,
   "metadata": {},
   "outputs": [
    {
     "data": {
      "text/plain": [
       "\n",
       "Call:\n",
       "glm(formula = Response_to_Last_Campaign ~ Number_of_EDM_Opened + \n",
       "    total_day_charge + total_eve_charge + total_night_charge + \n",
       "    total_intl_charge + Promotion_Coupons_Used + Competitor_use + \n",
       "    Call_center, family = \"binomial\", data = telco)\n",
       "\n",
       "Deviance Residuals: \n",
       "    Min       1Q   Median       3Q      Max  \n",
       "-1.5751  -0.4643  -0.3226  -0.1966   3.2954  \n",
       "\n",
       "Coefficients:\n",
       "                         Estimate Std. Error z value Pr(>|z|)    \n",
       "(Intercept)             -8.431506   0.460995 -18.290  < 2e-16 ***\n",
       "Number_of_EDM_Opened    -0.032012   0.004686  -6.831 8.45e-12 ***\n",
       "total_day_charge         0.083859   0.006083  13.785  < 2e-16 ***\n",
       "total_eve_charge         0.077292   0.012356   6.255 3.96e-10 ***\n",
       "total_night_charge       0.070444   0.022150   3.180  0.00147 ** \n",
       "total_intl_charge        0.303204   0.069782   4.345 1.39e-05 ***\n",
       "Promotion_Coupons_Used   0.462010   0.035324  13.079  < 2e-16 ***\n",
       "Competitor_use1          0.458391   0.290498   1.578  0.11458    \n",
       "Call_center1            19.861709 244.794574   0.081  0.93533    \n",
       "---\n",
       "Signif. codes:  0 '***' 0.001 '**' 0.01 '*' 0.05 '.' 0.1 ' ' 1\n",
       "\n",
       "(Dispersion parameter for binomial family taken to be 1)\n",
       "\n",
       "    Null deviance: 4075.0  on 4999  degrees of freedom\n",
       "Residual deviance: 2695.8  on 4991  degrees of freedom\n",
       "AIC: 2713.8\n",
       "\n",
       "Number of Fisher Scoring iterations: 16\n"
      ]
     },
     "metadata": {},
     "output_type": "display_data"
    }
   ],
   "source": [
    "summary(stepmod)"
   ]
  },
  {
   "cell_type": "code",
   "execution_count": 42,
   "metadata": {},
   "outputs": [],
   "source": [
    "train_predict <- predict(stepmod, newdata = train_set, type = 'response')\n",
    "p_class = ifelse(train_predict > 0.5, '1', '0')"
   ]
  },
  {
   "cell_type": "code",
   "execution_count": 43,
   "metadata": {},
   "outputs": [
    {
     "data": {
      "text/plain": [
       "       \n",
       "p_class    0    1\n",
       "      0 2993  313\n",
       "      1   12  182"
      ]
     },
     "metadata": {},
     "output_type": "display_data"
    }
   ],
   "source": [
    "matrix_table <- table(p_class, train_set$Response_to_Last_Campaign)\n",
    "matrix_table"
   ]
  },
  {
   "cell_type": "code",
   "execution_count": 44,
   "metadata": {},
   "outputs": [
    {
     "data": {
      "text/html": [
       "0.907142857142857"
      ],
      "text/latex": [
       "0.907142857142857"
      ],
      "text/markdown": [
       "0.907142857142857"
      ],
      "text/plain": [
       "[1] 0.9071429"
      ]
     },
     "metadata": {},
     "output_type": "display_data"
    }
   ],
   "source": [
    "accuracy <- sum(diag(matrix_table))/sum(matrix_table)\n",
    "accuracy"
   ]
  },
  {
   "cell_type": "code",
   "execution_count": 45,
   "metadata": {},
   "outputs": [],
   "source": [
    "test_predict <- predict(stepmod, newdata = test_set, type = \"response\")\n",
    "p_class <- ifelse(test_predict > 0.5, '1', '0')"
   ]
  },
  {
   "cell_type": "code",
   "execution_count": 46,
   "metadata": {},
   "outputs": [
    {
     "data": {
      "text/plain": [
       "       \n",
       "p_class    0    1\n",
       "      0 1281  143\n",
       "      1    7   69"
      ]
     },
     "metadata": {},
     "output_type": "display_data"
    }
   ],
   "source": [
    "matrix_table <- table(p_class,test_set$Response_to_Last_Campaign)\n",
    "matrix_table"
   ]
  },
  {
   "cell_type": "markdown",
   "metadata": {},
   "source": [
    "Model 3"
   ]
  },
  {
   "cell_type": "code",
   "execution_count": 47,
   "metadata": {},
   "outputs": [],
   "source": [
    "mod3 <- glm(Response_to_Last_Campaign ~ .-ID -Account_Length -Competitor_use , family = \"binomial\", data = telco)"
   ]
  },
  {
   "cell_type": "code",
   "execution_count": 48,
   "metadata": {},
   "outputs": [
    {
     "data": {
      "text/plain": [
       "\n",
       "Call:\n",
       "glm(formula = Response_to_Last_Campaign ~ . - ID - Account_Length - \n",
       "    Competitor_use, family = \"binomial\", data = telco)\n",
       "\n",
       "Deviance Residuals: \n",
       "    Min       1Q   Median       3Q      Max  \n",
       "-1.5789  -0.4643  -0.3231  -0.1967   3.2915  \n",
       "\n",
       "Coefficients:\n",
       "                         Estimate Std. Error z value Pr(>|z|)    \n",
       "(Intercept)             -8.413665   0.460560 -18.268  < 2e-16 ***\n",
       "Number_of_EDM_Opened    -0.032100   0.004686  -6.851 7.35e-12 ***\n",
       "total_day_charge         0.083842   0.006079  13.791  < 2e-16 ***\n",
       "total_eve_charge         0.077262   0.012347   6.258 3.91e-10 ***\n",
       "total_night_charge       0.070595   0.022138   3.189  0.00143 ** \n",
       "total_intl_charge        0.302368   0.069756   4.335 1.46e-05 ***\n",
       "Promotion_Coupons_Used   0.460789   0.035282  13.060  < 2e-16 ***\n",
       "Call_center1            19.851785 244.847344   0.081  0.93538    \n",
       "---\n",
       "Signif. codes:  0 '***' 0.001 '**' 0.01 '*' 0.05 '.' 0.1 ' ' 1\n",
       "\n",
       "(Dispersion parameter for binomial family taken to be 1)\n",
       "\n",
       "    Null deviance: 4075.0  on 4999  degrees of freedom\n",
       "Residual deviance: 2698.1  on 4992  degrees of freedom\n",
       "AIC: 2714.1\n",
       "\n",
       "Number of Fisher Scoring iterations: 16\n"
      ]
     },
     "metadata": {},
     "output_type": "display_data"
    }
   ],
   "source": [
    "summary(mod3)"
   ]
  },
  {
   "cell_type": "code",
   "execution_count": 52,
   "metadata": {},
   "outputs": [
    {
     "data": {
      "text/html": [
       "<style>\n",
       ".dl-inline {width: auto; margin:0; padding: 0}\n",
       ".dl-inline>dt, .dl-inline>dd {float: none; width: auto; display: inline-block}\n",
       ".dl-inline>dt::after {content: \":\\0020\"; padding-right: .5ex}\n",
       ".dl-inline>dt:not(:first-of-type) {padding-left: .5ex}\n",
       "</style><dl class=dl-inline><dt>(Intercept)</dt><dd>0.00022181540721498</dd><dt>Number_of_EDM_Opened</dt><dd>0.968410027457136</dd><dt>total_day_charge</dt><dd>1.08745744248505</dd><dt>total_eve_charge</dt><dd>1.08032487561622</dd><dt>total_night_charge</dt><dd>1.07314603771542</dd><dt>total_intl_charge</dt><dd>1.35305898576362</dd><dt>Promotion_Coupons_Used</dt><dd>1.58532416408362</dd><dt>Call_center1</dt><dd>418331470.597281</dd></dl>\n"
      ],
      "text/latex": [
       "\\begin{description*}\n",
       "\\item[(Intercept)] 0.00022181540721498\n",
       "\\item[Number\\textbackslash{}\\_of\\textbackslash{}\\_EDM\\textbackslash{}\\_Opened] 0.968410027457136\n",
       "\\item[total\\textbackslash{}\\_day\\textbackslash{}\\_charge] 1.08745744248505\n",
       "\\item[total\\textbackslash{}\\_eve\\textbackslash{}\\_charge] 1.08032487561622\n",
       "\\item[total\\textbackslash{}\\_night\\textbackslash{}\\_charge] 1.07314603771542\n",
       "\\item[total\\textbackslash{}\\_intl\\textbackslash{}\\_charge] 1.35305898576362\n",
       "\\item[Promotion\\textbackslash{}\\_Coupons\\textbackslash{}\\_Used] 1.58532416408362\n",
       "\\item[Call\\textbackslash{}\\_center1] 418331470.597281\n",
       "\\end{description*}\n"
      ],
      "text/markdown": [
       "(Intercept)\n",
       ":   0.00022181540721498Number_of_EDM_Opened\n",
       ":   0.968410027457136total_day_charge\n",
       ":   1.08745744248505total_eve_charge\n",
       ":   1.08032487561622total_night_charge\n",
       ":   1.07314603771542total_intl_charge\n",
       ":   1.35305898576362Promotion_Coupons_Used\n",
       ":   1.58532416408362Call_center1\n",
       ":   418331470.597281\n",
       "\n"
      ],
      "text/plain": [
       "           (Intercept)   Number_of_EDM_Opened       total_day_charge \n",
       "          2.218154e-04           9.684100e-01           1.087457e+00 \n",
       "      total_eve_charge     total_night_charge      total_intl_charge \n",
       "          1.080325e+00           1.073146e+00           1.353059e+00 \n",
       "Promotion_Coupons_Used           Call_center1 \n",
       "          1.585324e+00           4.183315e+08 "
      ]
     },
     "metadata": {},
     "output_type": "display_data"
    }
   ],
   "source": [
    "exp(coef(mod3))"
   ]
  },
  {
   "cell_type": "code",
   "execution_count": 49,
   "metadata": {},
   "outputs": [],
   "source": [
    "test_predict <- predict(mod3, newdata = test_set, type = \"response\")\n",
    "p_class <- ifelse(test_predict > 0.5, '1', '0')"
   ]
  },
  {
   "cell_type": "code",
   "execution_count": 50,
   "metadata": {},
   "outputs": [
    {
     "data": {
      "text/plain": [
       "       \n",
       "p_class    0    1\n",
       "      0 1282  144\n",
       "      1    6   68"
      ]
     },
     "metadata": {},
     "output_type": "display_data"
    }
   ],
   "source": [
    "matrix_table <- table(p_class, test_set$Response_to_Last_Campaign)\n",
    "matrix_table"
   ]
  },
  {
   "cell_type": "code",
   "execution_count": 51,
   "metadata": {},
   "outputs": [
    {
     "data": {
      "text/html": [
       "0.9"
      ],
      "text/latex": [
       "0.9"
      ],
      "text/markdown": [
       "0.9"
      ],
      "text/plain": [
       "[1] 0.9"
      ]
     },
     "metadata": {},
     "output_type": "display_data"
    }
   ],
   "source": [
    "accuracy <- sum(diag(matrix_table))/sum(matrix_table)\n",
    "accuracy"
   ]
  },
  {
   "cell_type": "markdown",
   "metadata": {},
   "source": [
    "Accuracy is approximately the same as stepAIC model but with lesser variables."
   ]
  },
  {
   "cell_type": "code",
   "execution_count": null,
   "metadata": {},
   "outputs": [],
   "source": []
  }
 ],
 "metadata": {
  "kernelspec": {
   "display_name": "R",
   "language": "R",
   "name": "ir"
  },
  "language_info": {
   "codemirror_mode": "r",
   "file_extension": ".r",
   "mimetype": "text/x-r-source",
   "name": "R",
   "pygments_lexer": "r",
   "version": "3.6.2"
  }
 },
 "nbformat": 4,
 "nbformat_minor": 4
}
